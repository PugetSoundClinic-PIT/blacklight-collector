{
 "cells": [
  {
   "cell_type": "code",
   "execution_count": 4,
   "metadata": {},
   "outputs": [],
   "source": [
    "import pandas as pd\n",
    "import os\n",
    "import subprocess\n",
    "attorney = pd.read_csv(str(os. getcwd())+\"/2022-attorney-blacklight-data.csv\")\n",
    "governor = pd.read_csv(str(os. getcwd())+\"/2022-governor-blacklight-data.csv\")\n",
    "house = pd.read_csv(str(os. getcwd())+\"/2022-house-blacklight-data.csv\")\n",
    "mayor = pd.read_csv(str(os. getcwd())+\"/2022-mayor-blacklight-data.csv\")\n",
    "city = pd.read_csv(str(os. getcwd())+\"/2022-city-elections-blacklight-data.csv\")\n",
    "local = pd.read_csv(str(os. getcwd())+\"/2022-local-elections-blacklight-data.csv\")\n",
    "municipal = pd.read_csv(str(os. getcwd())+\"/2022-municipal-elections-blacklight-data.csv\")"
   ]
  },
  {
   "cell_type": "code",
   "execution_count": 5,
   "metadata": {},
   "outputs": [],
   "source": [
    "mayor[['city', 'state']] = mayor['location'].str.split(',', expand=True)\n",
    "mayor = mayor.drop('location', axis=1)\n",
    "mayor = mayor.rename(columns={'city': 'location'})\n",
    "\n",
    "city[['city', 'state']] = city['location'].str.split(',', expand=True)\n",
    "city = city.drop('location', axis=1)\n",
    "city = city.rename(columns={'city': 'location'})\n",
    "\n",
    "municipal[['city', 'state']] = municipal['location'].str.split(',', expand=True)\n",
    "municipal = municipal.drop('location', axis=1)\n",
    "municipal = municipal.rename(columns={'city': 'location'})\n",
    "\n",
    "house[['state', 'district', 'null']] = house['location'].str.split(' ', expand=True)\n",
    "house = house.drop('district', axis=1)\n",
    "house = house.drop('null', axis=1)\n",
    "\n",
    "total_races = pd.concat([attorney, governor, house, mayor, city, local, municipal], axis=0)\n",
    "total_races = total_races.reset_index(drop=True)"
   ]
  },
  {
   "cell_type": "code",
   "execution_count": 6,
   "metadata": {},
   "outputs": [
    {
     "name": "stdout",
     "output_type": "stream",
     "text": [
      "<class 'pandas.core.frame.DataFrame'>\n",
      "RangeIndex: 1869 entries, 0 to 1868\n",
      "Data columns (total 85 columns):\n",
      " #   Column                                        Non-Null Count  Dtype  \n",
      "---  ------                                        --------------  -----  \n",
      " 0   names                                         1869 non-null   object \n",
      " 1   state                                         1787 non-null   object \n",
      " 2   electoral_position                            1869 non-null   object \n",
      " 3   electoral_level                               1869 non-null   object \n",
      " 4   electoral_branch                              1869 non-null   object \n",
      " 5   candidate_page                                1869 non-null   object \n",
      " 6   campaign_website_url                          1867 non-null   object \n",
      " 7   camp_hand                                     876 non-null    object \n",
      " 8   off_hand                                      10 non-null     object \n",
      " 9   per_hand                                      177 non-null    object \n",
      " 10  party                                         1869 non-null   object \n",
      " 11  election_result                               1747 non-null   object \n",
      " 12  number_of_votes_for_race                      1747 non-null   object \n",
      " 13  number_of_votes_for_candidate                 1747 non-null   object \n",
      " 14  vote_share                                    1747 non-null   float64\n",
      " 15  error-type_color-contrast                     1354 non-null   float64\n",
      " 16  error-type_landmark-one-main                  1024 non-null   float64\n",
      " 17  error-type_region                             1383 non-null   float64\n",
      " 18  error-type_link-name                          1118 non-null   float64\n",
      " 19  error-type_label                              740 non-null    float64\n",
      " 20  error-type_page-has-heading-one               1074 non-null   float64\n",
      " 21  error-type_meta-viewport                      389 non-null    float64\n",
      " 22  error-type_heading-order                      1030 non-null   float64\n",
      " 23  error-type_image-alt                          636 non-null    float64\n",
      " 24  error-type_bypass                             115 non-null    float64\n",
      " 25  error-type_empty-heading                      321 non-null    float64\n",
      " 26  number_of_pages                               1869 non-null   int64  \n",
      " 27  number_of_total_errors                        1869 non-null   int64  \n",
      " 28  number_of_critical_errors                     1869 non-null   int64  \n",
      " 29  number_of_serious_errors                      1869 non-null   int64  \n",
      " 30  number_of_moderate_errors                     1869 non-null   int64  \n",
      " 31  number_of_minor_errors                        1869 non-null   int64  \n",
      " 32  number_of_words                               1869 non-null   int64  \n",
      " 33  number_of_unique_words                        1869 non-null   int64  \n",
      " 34  ease_of_reading                               1869 non-null   float64\n",
      " 35  error-type_tabindex                           196 non-null    float64\n",
      " 36  error-type_aria-allowed-role                  882 non-null    float64\n",
      " 37  error-type_aria-valid-attr-value              90 non-null     float64\n",
      " 38  error-type_frame-title                        395 non-null    float64\n",
      " 39  error-type_duplicate-id-aria                  111 non-null    float64\n",
      " 40  error-type_skip-link                          122 non-null    float64\n",
      " 41  error-type_duplicate-id                       640 non-null    float64\n",
      " 42  error-type_html-has-lang                      468 non-null    float64\n",
      " 43  error-type_document-title                     90 non-null     float64\n",
      " 44  error-type_aria-roles                         83 non-null     float64\n",
      " 45  error-type_aria-valid-attr                    69 non-null     float64\n",
      " 46  error-type_button-name                        181 non-null    float64\n",
      " 47  error-type_checkboxgroup                      153 non-null    float64\n",
      " 48  error-type_definition-list                    23 non-null     float64\n",
      " 49  error-type_frame-title-unique                 52 non-null     float64\n",
      " 50  error-type_duplicate-id-active                110 non-null    float64\n",
      " 51  error-type_label-title-only                   86 non-null     float64\n",
      " 52  error-type_image-redundant-alt                30 non-null     float64\n",
      " 53  error-type_autocomplete-valid                 80 non-null     float64\n",
      " 54  error-type_aria-required-children             40 non-null     float64\n",
      " 55  error-type_listitem                           49 non-null     float64\n",
      " 56  error-type_aria-allowed-attr                  21 non-null     float64\n",
      " 57  error-type_list                               74 non-null     float64\n",
      " 58  error-type_landmark-no-duplicate-banner       139 non-null    float64\n",
      " 59  error-type_landmark-contentinfo-is-top-level  26 non-null     float64\n",
      " 60  error-type_input-image-alt                    8 non-null      float64\n",
      " 61  number_of_total_trackers                      1867 non-null   float64\n",
      " 62  behaviour_event_listeners                     1867 non-null   float64\n",
      " 63  canvas_fingerprinters                         1867 non-null   float64\n",
      " 64  canvas_font_fingerprinters                    1867 non-null   float64\n",
      " 65  cookies                                       1867 non-null   float64\n",
      " 66  fb_pixel_events                               1867 non-null   float64\n",
      " 67  key_logging                                   1867 non-null   float64\n",
      " 68  session_recorders                             1867 non-null   float64\n",
      " 69  third_party_trackers                          1867 non-null   float64\n",
      " 70  location                                      1841 non-null   object \n",
      " 71  error-type_landmark-no-duplicate-contentinfo  49 non-null     float64\n",
      " 72  error-type_radiogroup                         75 non-null     float64\n",
      " 73  error-type_landmark-main-is-top-level         40 non-null     float64\n",
      " 74  error-type_aria-required-attr                 22 non-null     float64\n",
      " 75  error-type_meta-viewport-large                12 non-null     float64\n",
      " 76  error-type_dlitem                             3 non-null      float64\n",
      " 77  error-type_landmark-banner-is-top-level       56 non-null     float64\n",
      " 78  error-type_meta-refresh                       3 non-null      float64\n",
      " 79  error-type_aria-required-parent               8 non-null      float64\n",
      " 80  error-type_marquee                            2 non-null      float64\n",
      " 81  error-type_object-alt                         3 non-null      float64\n",
      " 82  area                                          158 non-null    object \n",
      " 83  error-type_area-alt                           1 non-null      float64\n",
      " 84  error-type_table-duplicate-name               1 non-null      float64\n",
      "dtypes: float64(61), int64(8), object(16)\n",
      "memory usage: 1.2+ MB\n"
     ]
    }
   ],
   "source": [
    "total_races.info()"
   ]
  },
  {
   "cell_type": "code",
   "execution_count": null,
   "metadata": {},
   "outputs": [],
   "source": [
    "total_races.to_csv('total_2022_blacklight.csv', index=False)"
   ]
  }
 ],
 "metadata": {
  "kernelspec": {
   "display_name": "Python 3",
   "language": "python",
   "name": "python3"
  },
  "language_info": {
   "codemirror_mode": {
    "name": "ipython",
    "version": 3
   },
   "file_extension": ".py",
   "mimetype": "text/x-python",
   "name": "python",
   "nbconvert_exporter": "python",
   "pygments_lexer": "ipython3",
   "version": "3.9.6"
  },
  "orig_nbformat": 4,
  "vscode": {
   "interpreter": {
    "hash": "31f2aee4e71d21fbe5cf8b01ff0e069b9275f58929596ceb00d14d90e3e16cd6"
   }
  }
 },
 "nbformat": 4,
 "nbformat_minor": 2
}
