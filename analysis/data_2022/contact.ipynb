{
 "cells": [
  {
   "cell_type": "code",
   "execution_count": 4,
   "metadata": {},
   "outputs": [],
   "source": [
    "import pandas as pd\n",
    "import os\n",
    "import subprocess\n",
    "attorney = pd.read_csv(str(os. getcwd())+\"/2022-attorney-blacklight-data.csv\")\n",
    "governor = pd.read_csv(str(os. getcwd())+\"/2022-governor-blacklight-data.csv\")\n",
    "house = pd.read_csv(str(os. getcwd())+\"/2022-house-blacklight-data.csv\")\n",
    "mayor = pd.read_csv(str(os. getcwd())+\"/2022-mayor-blacklight-data.csv\")\n",
    "city = pd.read_csv(str(os. getcwd())+\"/2022-city-elections-blacklight-data.csv\")\n",
    "local = pd.read_csv(str(os. getcwd())+\"/2022-local-elections-blacklight-data.csv\")\n",
    "municipal = pd.read_csv(str(os. getcwd())+\"/2022-municipal-elections-blacklight-data.csv\")"
   ]
  },
  {
   "cell_type": "code",
   "execution_count": 5,
   "metadata": {},
   "outputs": [],
   "source": [
    "mayor[['city', 'state']] = mayor['location'].str.split(',', expand=True)\n",
    "mayor = mayor.drop('location', axis=1)\n",
    "mayor = mayor.rename(columns={'city': 'location'})\n",
    "\n",
    "city[['city', 'state']] = city['location'].str.split(',', expand=True)\n",
    "city = city.drop('location', axis=1)\n",
    "city = city.rename(columns={'city': 'location'})\n",
    "\n",
    "municipal[['city', 'state']] = municipal['location'].str.split(',', expand=True)\n",
    "municipal = municipal.drop('location', axis=1)\n",
    "municipal = municipal.rename(columns={'city': 'location'})\n",
    "\n",
    "house[['state', 'district', 'null']] = house['location'].str.split(' ', expand=True)\n",
    "house = house.drop('district', axis=1)\n",
    "house = house.drop('null', axis=1)\n",
    "\n",
    "total_races = pd.concat([attorney, governor, house, mayor, city, local, municipal], axis=0)\n",
    "total_races = total_races.reset_index(drop=True)"
   ]
  },
  {
   "cell_type": "code",
   "execution_count": 2,
   "metadata": {},
   "outputs": [],
   "source": [
    "import json\n",
    "with open(\"/Users/fpw/Desktop/research/blacklight-collector/unpacked-eval-results/shawnaforclerk.wordpress.com/inspection.json\", \"r\") as open_f:\n",
    "    this_dir_loaded_results = json.load(open_f)\n"
   ]
  },
  {
   "cell_type": "code",
   "execution_count": 10,
   "metadata": {},
   "outputs": [],
   "source": [
    "import pandas as pd\n",
    "df = pd.read_csv(str(os. getcwd())+\"/total_2022_blacklight_0.9_google.csv\")"
   ]
  },
  {
   "cell_type": "code",
   "execution_count": 11,
   "metadata": {},
   "outputs": [],
   "source": [
    "mapping = {\n",
    "    'Federal': 'Federal',\n",
    "    'State': 'State',\n",
    "    'County': 'Local',\n",
    "    'City': 'Local',\n",
    "    'City/County': 'Local',\n",
    "    'Special District': 'Local'\n",
    "}\n",
    "df['electoral_level_3'] = df['electoral_level'].replace(mapping)"
   ]
  },
  {
   "cell_type": "code",
   "execution_count": 8,
   "metadata": {},
   "outputs": [
    {
     "name": "stdout",
     "output_type": "stream",
     "text": [
      "yes\n"
     ]
    }
   ],
   "source": [
    "if \"google\" in this_dir_loaded_results['reports'][\"third_party_trackers\"][2]['url']:\n",
    "    print(\"yes\")\n",
    "    google_count += 1\n",
    "else:\n",
    "    google_count += 0\n",
    "\n",
    "third party tracker = third_party_tracker - google_count"
   ]
  },
  {
   "cell_type": "code",
   "execution_count": 12,
   "metadata": {},
   "outputs": [],
   "source": [
    "df.to_csv('total_2022_blacklight_0.9_google.csv', index=False)"
   ]
  }
 ],
 "metadata": {
  "kernelspec": {
   "display_name": "Python 3",
   "language": "python",
   "name": "python3"
  },
  "language_info": {
   "codemirror_mode": {
    "name": "ipython",
    "version": 3
   },
   "file_extension": ".py",
   "mimetype": "text/x-python",
   "name": "python",
   "nbconvert_exporter": "python",
   "pygments_lexer": "ipython3",
   "version": "3.9.6"
  },
  "orig_nbformat": 4,
  "vscode": {
   "interpreter": {
    "hash": "31f2aee4e71d21fbe5cf8b01ff0e069b9275f58929596ceb00d14d90e3e16cd6"
   }
  }
 },
 "nbformat": 4,
 "nbformat_minor": 2
}
